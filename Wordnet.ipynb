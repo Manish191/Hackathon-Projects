{
  "nbformat": 4,
  "nbformat_minor": 0,
  "metadata": {
    "colab": {
      "provenance": [],
      "collapsed_sections": [],
      "authorship_tag": "ABX9TyPEcv05r2tGggWcKyxYoddw",
      "include_colab_link": true
    },
    "kernelspec": {
      "name": "python3",
      "display_name": "Python 3"
    },
    "language_info": {
      "name": "python"
    }
  },
  "cells": [
    {
      "cell_type": "markdown",
      "metadata": {
        "id": "view-in-github",
        "colab_type": "text"
      },
      "source": [
        "<a href=\"https://colab.research.google.com/github/Manish191/Hackathon-Projects/blob/master/Wordnet.ipynb\" target=\"_parent\"><img src=\"https://colab.research.google.com/assets/colab-badge.svg\" alt=\"Open In Colab\"/></a>"
      ]
    },
    {
      "cell_type": "markdown",
      "source": [
        "Wordnets are a type of database in Natural language processing. They express relationships between words and are useful to find words which express the same ideas, somewhat like a thesaurus."
      ],
      "metadata": {
        "id": "cqaA8F1txu7i"
      }
    },
    {
      "cell_type": "code",
      "execution_count": null,
      "metadata": {
        "colab": {
          "base_uri": "https://localhost:8080/"
        },
        "id": "zZhnb6q4xVKL",
        "outputId": "81f98b03-92a3-4fa2-edf5-ba2594f8c6fa"
      },
      "outputs": [
        {
          "output_type": "stream",
          "name": "stderr",
          "text": [
            "[nltk_data] Downloading package wordnet to /root/nltk_data...\n",
            "[nltk_data] Downloading package omw-1.4 to /root/nltk_data...\n"
          ]
        }
      ],
      "source": [
        "import nltk\n",
        "nltk.download('wordnet')\n",
        "nltk.download('omw-1.4')\n",
        "from nltk.corpus import wordnet\n",
        "\n"
      ]
    },
    {
      "cell_type": "markdown",
      "source": [],
      "metadata": {
        "id": "dA8LM8Wq0h1i"
      }
    },
    {
      "cell_type": "code",
      "source": [
        "syn = wordnet.synsets(\"dog\")\n",
        "for x in syn:\n",
        "  print(x.name())\n",
        "gg = syn[5]\n",
        "print(gg.name() + \" is the selected synset.\\nThe definition is \" + gg.definition() + \"\\n its usage examples are \" + str(gg.examples()))\n",
        "\n"
      ],
      "metadata": {
        "colab": {
          "base_uri": "https://localhost:8080/"
        },
        "id": "LglenhUo0iJh",
        "outputId": "f54e39e8-e62a-48c5-eb88-7e3d03b63dc9"
      },
      "execution_count": null,
      "outputs": [
        {
          "output_type": "stream",
          "name": "stdout",
          "text": [
            "dog.n.01\n",
            "frump.n.01\n",
            "dog.n.03\n",
            "cad.n.01\n",
            "frank.n.02\n",
            "pawl.n.01\n",
            "andiron.n.01\n",
            "chase.v.01\n",
            "pawl.n.01 is the selected synset.\n",
            "The definition is a hinged catch that fits into a notch of a ratchet to move a wheel forward or prevent it from moving backward\n",
            " its usage examples are []\n"
          ]
        }
      ]
    },
    {
      "cell_type": "code",
      "source": [
        "print (\"\\nSynset abstract term :  \", gg.hypernyms())\n",
        " \n",
        "print (\"\\nSynset specific term :  \",gg.hypernyms()[0].hyponyms())\n",
        "\n"
      ],
      "metadata": {
        "colab": {
          "base_uri": "https://localhost:8080/"
        },
        "id": "6HaFzhNqVrOx",
        "outputId": "e295df54-1959-48d6-e45b-84f8b01ebd92"
      },
      "execution_count": null,
      "outputs": [
        {
          "output_type": "stream",
          "name": "stdout",
          "text": [
            "\n",
            "Synset abstract term :   [Synset('catch.n.06')]\n",
            "\n",
            "Synset specific term :   [Synset('bench_hook.n.01'), Synset('doorstop.n.01'), Synset('pawl.n.01'), Synset('tripper.n.04')]\n"
          ]
        }
      ]
    },
    {
      "cell_type": "code",
      "source": [
        "syn = wordnet.synsets('think')\n",
        "for x in syn:\n",
        "  print(x.name())\n",
        "gg = syn[4]\n",
        "print(gg.name() + \" is the selected synset.\\nThe definition is \" + gg.definition() + \"\\nits usage examples are \" + str(gg.examples()))\n",
        "cc = wordnet.morphy(\"remember.v.01\")\n",
        "print(cc)"
      ],
      "metadata": {
        "colab": {
          "base_uri": "https://localhost:8080/"
        },
        "id": "gRBOOdZjXC7f",
        "outputId": "3cffb66a-d399-4aac-9416-57e8829aac26"
      },
      "execution_count": null,
      "outputs": [
        {
          "output_type": "stream",
          "name": "stdout",
          "text": [
            "think.n.01\n",
            "think.v.01\n",
            "think.v.02\n",
            "think.v.03\n",
            "remember.v.01\n",
            "think.v.05\n",
            "think.v.06\n",
            "intend.v.01\n",
            "think.v.08\n",
            "think.v.09\n",
            "think.v.10\n",
            "think.v.11\n",
            "think.v.12\n",
            "think.v.13\n",
            "remember.v.01 is the selected synset.\n",
            "The definition is recall knowledge from memory; have a recollection\n",
            "its usage examples are [\"I can't remember saying any such thing\", \"I can't think what her last name was\", 'can you remember her phone number?', 'Do you remember that he once loved you?', 'call up memories']\n",
            "None\n"
          ]
        }
      ]
    }
  ]
}